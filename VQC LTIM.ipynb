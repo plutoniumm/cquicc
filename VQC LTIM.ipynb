{
 "cells": [
  {
   "cell_type": "code",
   "execution_count": 3,
   "id": "ba5f1a2c",
   "metadata": {},
   "outputs": [],
   "source": [
    "from qiskit import BasicAer\n",
    "from qiskit.utils import QuantumInstance, algorithm_globals\n",
    "from qiskit.algorithms.optimizers import COBYLA\n",
    "from qiskit.circuit.library import TwoLocal\n",
    "from qiskit_machine_learning.algorithms import VQC\n",
    "from qiskit_machine_learning.circuit.library import RawFeatureVector\n",
    "from qiskit.circuit.library import RealAmplitudes, ZZFeatureMap, ZFeatureMap, NLocal\n",
    "from qiskit import QuantumCircuit\n",
    "from qiskit.circuit import Parameter\n",
    "import numpy as np"
   ]
  },
  {
   "cell_type": "code",
   "execution_count": 7,
   "id": "89c2d2f7",
   "metadata": {},
   "outputs": [
    {
     "name": "stdout",
     "output_type": "stream",
     "text": [
      "WARNING: \u001b[93mUsage: python preprocess.py <filename.csv>\u001b[0m\n",
      "Enter filename: e1200.csv\n"
     ]
    },
    {
     "data": {
      "image/png": "[encoded data removed]",
      "text/plain": [
       "<Figure size 640x480 with 1 Axes>"
      ]
     },
     "metadata": {},
     "output_type": "display_data"
    }
   ],
   "source": [
    "%run preprocess.py"
   ]
  },
  {
   "cell_type": "code",
   "execution_count": 8,
   "id": "e0645c02",
   "metadata": {},
   "outputs": [],
   "source": [
    "train_data = np.load('train_data.npy')\n",
    "train_labels = np.load('train_labels.npy')\n",
    "test_data = np.load('test_data.npy')\n",
    "test_labels = np.load('test_labels.npy')"
   ]
  },
  {
   "cell_type": "code",
   "execution_count": 9,
   "id": "65e8c1e9",
   "metadata": {},
   "outputs": [
    {
     "name": "stdout",
     "output_type": "stream",
     "text": [
      "379 570\n"
     ]
    }
   ],
   "source": [
    "print(len(train_data),len(test_data))"
   ]
  },
  {
   "cell_type": "markdown",
   "id": "b595097e",
   "metadata": {},
   "source": [
    "# Classical SVM training and testing"
   ]
  },
  {
   "cell_type": "code",
   "execution_count": 12,
   "id": "a3e4eba1",
   "metadata": {
    "scrolled": true
   },
   "outputs": [
    {
     "name": "stdout",
     "output_type": "stream",
     "text": [
      "*** Training a classical SVM classifier with rbf Kernel ***\n",
      "training time for classical SVM :  0.020252466201782227\n",
      "[[164 124]\n",
      " [ 87 195]]\n",
      "              precision    recall  f1-score   support\n",
      "\n",
      "         0.0       0.65      0.57      0.61       288\n",
      "         1.0       0.61      0.69      0.65       282\n",
      "\n",
      "    accuracy                           0.63       570\n",
      "   macro avg       0.63      0.63      0.63       570\n",
      "weighted avg       0.63      0.63      0.63       570\n",
      "\n"
     ]
    }
   ],
   "source": [
    "import matplotlib.pyplot as plt\n",
    "from sklearn import svm, metrics\n",
    "from sklearn.metrics import classification_report, confusion_matrix\n",
    "from time import time\n",
    "print(\"*** Training a classical SVM classifier with rbf Kernel ***\")\n",
    "train_labels_svm = train_labels\n",
    "test_labels_svm = test_labels\n",
    "clf = svm.SVC(kernel='rbf')\n",
    "start_time = time()\n",
    "clf.fit(train_data, train_labels_svm)\n",
    "end_time = time()\n",
    "duration = end_time - start_time\n",
    "print(\"training time for classical SVM : \", duration)\n",
    "y_pred=clf.predict(test_data)\n",
    "print(confusion_matrix(test_labels_svm, y_pred))\n",
    "print(classification_report(test_labels_svm, y_pred))"
   ]
  },
  {
   "cell_type": "markdown",
   "id": "26150a51",
   "metadata": {},
   "source": [
    "# Variational Quantum Classifier trained and tested on same data"
   ]
  },
  {
   "cell_type": "code",
   "execution_count": 13,
   "id": "79a6dd54",
   "metadata": {},
   "outputs": [
    {
     "name": "stderr",
     "output_type": "stream",
     "text": [
      "C:\\Users\\sai sakunthala\\AppData\\Local\\Temp\\ipykernel_15340\\1822942454.py:11: DeprecationWarning: The class ``qiskit.utils.quantum_instance.QuantumInstance`` is deprecated as of qiskit-terra 0.24.0. It will be removed no earlier than 3 months after the release date. For code migration guidelines, visit https://qisk.it/qi_migration.\n",
      "  quantum_instance=QuantumInstance(BasicAer.get_backend('statevector_simulator'),\n",
      "C:\\Users\\sai sakunthala\\AppData\\Local\\Temp\\ipykernel_15340\\1822942454.py:8: DeprecationWarning: The quantum_instance argument is deprecated as of version 0.5.0 and will be removed no sooner than 3 months after the release. Instead use the sampler argument.\n",
      "  vqc = VQC(feature_map=feature_map,\n"
     ]
    }
   ],
   "source": [
    "seed = 1376\n",
    "#algorithm_globals.random_seed = seed\n",
    "feature_dim = train_data.shape[1]\n",
    "#print(feature_dim)\n",
    "feature_map = ZZFeatureMap(feature_dim)\n",
    "ansatz = TwoLocal(feature_dim, ['ry', 'rz'], 'cz', reps = 2)\n",
    "\n",
    "vqc = VQC(feature_map=feature_map,\n",
    "                 ansatz=ansatz,\n",
    "                 optimizer=COBYLA(maxiter=100),\n",
    "                 quantum_instance=QuantumInstance(BasicAer.get_backend('statevector_simulator'),\n",
    "                                                 seed_simulator=seed,\n",
    "                                                 seed_transpiler=seed)\n",
    "                 )\n"
   ]
  },
  {
   "cell_type": "code",
   "execution_count": 14,
   "id": "0112289c",
   "metadata": {},
   "outputs": [
    {
     "name": "stdout",
     "output_type": "stream",
     "text": [
      "training_data (379, 6)\n"
     ]
    },
    {
     "name": "stderr",
     "output_type": "stream",
     "text": [
      "C:\\Users\\sai sakunthala\\AppData\\Local\\Programs\\Python\\Python310\\lib\\site-packages\\sklearn\\preprocessing\\_encoders.py:868: FutureWarning: `sparse` was renamed to `sparse_output` in version 1.2 and will be removed in 1.4. `sparse_output` is ignored unless you leave `sparse` to its default value.\n",
      "  warnings.warn(\n"
     ]
    },
    {
     "name": "stdout",
     "output_type": "stream",
     "text": [
      "training time :  2424.58619761467\n"
     ]
    }
   ],
   "source": [
    "start_time = time()\n",
    "print(\"training_data\", train_data.shape)\n",
    "vqc.fit(train_data, train_labels)\n",
    "end_time = time()\n",
    "duration = end_time - start_time\n",
    "print(\"training time : \", duration)"
   ]
  },
  {
   "cell_type": "code",
   "execution_count": 15,
   "id": "ffbb5b8d",
   "metadata": {},
   "outputs": [
    {
     "name": "stdout",
     "output_type": "stream",
     "text": [
      "testing time :  35.5388708114624\n"
     ]
    }
   ],
   "source": [
    "start_time1 = time()\n",
    "y_pred = vqc.predict(test_data)\n",
    "end_time1 = time()\n",
    "duration1 = end_time1 - start_time1\n",
    "print(\"testing time : \", duration1)\n",
    "#print(classification_report(test_labels,y_pred_1))"
   ]
  },
  {
   "cell_type": "code",
   "execution_count": 17,
   "id": "7537bace",
   "metadata": {},
   "outputs": [],
   "source": [
    "final_pred=y_pred"
   ]
  },
  {
   "cell_type": "code",
   "execution_count": 18,
   "id": "ba5946e0",
   "metadata": {},
   "outputs": [
    {
     "name": "stdout",
     "output_type": "stream",
     "text": [
      "              precision    recall  f1-score   support\n",
      "\n",
      "         0.0       0.50      0.48      0.49       288\n",
      "         1.0       0.49      0.51      0.50       282\n",
      "\n",
      "    accuracy                           0.49       570\n",
      "   macro avg       0.49      0.49      0.49       570\n",
      "weighted avg       0.49      0.49      0.49       570\n",
      "\n"
     ]
    },
    {
     "data": {
      "text/plain": [
       "array([[137, 151],\n",
       "       [137, 145]], dtype=int64)"
      ]
     },
     "execution_count": 18,
     "metadata": {},
     "output_type": "execute_result"
    }
   ],
   "source": [
    "print(classification_report(test_labels_svm,final_pred))\n",
    "confusion_matrix(test_labels_svm,final_pred)"
   ]
  },
  {
   "cell_type": "code",
   "execution_count": null,
   "id": "0c11f9a5",
   "metadata": {},
   "outputs": [],
   "source": []
  }
 ],
 "metadata": {
  "kernelspec": {
   "display_name": "Python 3 (ipykernel)",
   "language": "python",
   "name": "python3"
  },
  "language_info": {
   "codemirror_mode": {
    "name": "ipython",
    "version": 3
   },
   "file_extension": ".py",
   "mimetype": "text/x-python",
   "name": "python",
   "nbconvert_exporter": "python",
   "pygments_lexer": "ipython3",
   "version": "3.10.11"
  }
 },
 "nbformat": 4,
 "nbformat_minor": 5
}
